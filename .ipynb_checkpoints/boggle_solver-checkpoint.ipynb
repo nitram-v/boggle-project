{
 "cells": [
  {
   "cell_type": "code",
   "execution_count": 29,
   "id": "73c677b3",
   "metadata": {},
   "outputs": [],
   "source": [
    "# Links:\n",
    "# en dice configuration: https://boardgames.stackexchange.com/questions/29264/boggle-what-is-the-dice-configuration-for-boggle-in-various-languages"
   ]
  },
  {
   "cell_type": "code",
   "execution_count": 30,
   "id": "43232968",
   "metadata": {},
   "outputs": [],
   "source": [
    "import numpy as np"
   ]
  },
  {
   "cell_type": "code",
   "execution_count": 31,
   "id": "430b46ad",
   "metadata": {},
   "outputs": [],
   "source": [
    "def create_board(dice):\n",
    "    board = [list(zeros) for zeros in np.zeros((4,4))]\n",
    "    for i in range(4):\n",
    "        for j in range(4):\n",
    "            # Take a random die from the set of dice\n",
    "            die = dice.pop(np.random.randint(len(dice)))\n",
    "            # Assign a random letter from the die onto the board\n",
    "            board[i][j] = die[np.random.randint(6)]\n",
    "    return board"
   ]
  },
  {
   "cell_type": "code",
   "execution_count": 32,
   "id": "ac4435ef",
   "metadata": {},
   "outputs": [],
   "source": [
    "# en: https://boardgames.stackexchange.com/questions/29264/boggle-what-is-the-dice-configuration-for-boggle-in-various-languages\n",
    "dice = [[\"R\", \"I\", \"F\", \"O\", \"B\", \"X\"],\n",
    "       [\"I\", \"F\", \"E\", \"H\", \"E\", \"Y\"],\n",
    "       [\"D\", \"E\", \"N\", \"O\", \"W\", \"S\"],\n",
    "       [\"U\", \"T\", \"O\", \"K\", \"N\", \"D\"],\n",
    "       [\"H\", \"M\", \"S\", \"R\", \"A\", \"O\"],\n",
    "       [\"L\", \"U\", \"P\", \"E\", \"T\", \"S\"],\n",
    "       [\"A\", \"C\", \"I\", \"T\", \"O\", \"A\"],\n",
    "       [\"Y\", \"L\", \"G\", \"K\", \"U\", \"E\"],\n",
    "       [\"Qu\", \"B\", \"M\", \"J\", \"O\", \"A\"],\n",
    "       [\"E\", \"H\", \"I\", \"S\", \"P\", \"N\"],\n",
    "       [\"V\", \"E\", \"T\", \"I\", \"G\", \"N\"],\n",
    "       [\"B\", \"A\", \"L\", \"I\", \"Y\", \"T\"],\n",
    "       [\"E\", \"Z\", \"A\", \"V\", \"N\", \"D\"],\n",
    "       [\"R\", \"A\", \"L\", \"E\", \"S\", \"C\"],\n",
    "       [\"U\", \"W\", \"I\", \"L\", \"R\", \"G\"],\n",
    "       [\"P\", \"A\", \"C\", \"E\", \"M\", \"D\"],]\n",
    "\n",
    "board = create_board(dice)"
   ]
  },
  {
   "cell_type": "code",
   "execution_count": 33,
   "id": "a47af494",
   "metadata": {},
   "outputs": [
    {
     "data": {
      "text/plain": [
       "[['C', 'I', 'A', 'U'],\n",
       " ['E', 'U', 'G', 'L'],\n",
       " ['K', 'J', 'I', 'H'],\n",
       " ['D', 'I', 'M', 'S']]"
      ]
     },
     "execution_count": 33,
     "metadata": {},
     "output_type": "execute_result"
    }
   ],
   "source": [
    "board"
   ]
  },
  {
   "cell_type": "code",
   "execution_count": null,
   "id": "4af91df7",
   "metadata": {},
   "outputs": [],
   "source": []
  }
 ],
 "metadata": {
  "kernelspec": {
   "display_name": "Python 3",
   "language": "python",
   "name": "python3"
  },
  "language_info": {
   "codemirror_mode": {
    "name": "ipython",
    "version": 3
   },
   "file_extension": ".py",
   "mimetype": "text/x-python",
   "name": "python",
   "nbconvert_exporter": "python",
   "pygments_lexer": "ipython3",
   "version": "3.10.4"
  }
 },
 "nbformat": 4,
 "nbformat_minor": 5
}
