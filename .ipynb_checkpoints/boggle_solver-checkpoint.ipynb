{
 "cells": [
  {
   "cell_type": "code",
   "execution_count": 29,
   "id": "c3b707fd",
   "metadata": {},
   "outputs": [],
   "source": [
    "# Links:\n",
    "# en dice configuration: https://boardgames.stackexchange.com/questions/29264/boggle-what-is-the-dice-configuration-for-boggle-in-various-languages"
   ]
  },
  {
   "cell_type": "code",
   "execution_count": 30,
   "id": "99f7aeb2",
   "metadata": {},
   "outputs": [],
   "source": [
    "import numpy as np"
   ]
  },
  {
   "cell_type": "code",
   "execution_count": 48,
   "id": "acff944b",
   "metadata": {},
   "outputs": [],
   "source": [
    "# Create a random board with given dice\n",
    "def create_board(dice):\n",
    "    board = [list(zeros) for zeros in np.zeros((4,4))]\n",
    "    for i in range(4):\n",
    "        for j in range(4):\n",
    "            # Take a random die from the set of dice\n",
    "            die = dice.pop(np.random.randint(len(dice)))\n",
    "            # Assign a random letter from the die onto the board\n",
    "            board[i][j] = die[np.random.randint(6)]\n",
    "    return board"
   ]
  },
  {
   "cell_type": "code",
   "execution_count": 49,
   "id": "2c86aadb",
   "metadata": {},
   "outputs": [],
   "source": [
    "# Get adjacent vertices for given vertex\n",
    "def get_adj(i,j):\n",
    "    adj_indices = [(i-1,j), (i+1,j), (i,j-1), (i,j+1), (i-1,j-1), (i+1,j-1), (i-1,j+1), (i+1,j+1)]\n",
    "    return list(filter(lambda x : x[0] in range(0,4) and x[1] in range(0,4), adj_indices))\n",
    "\n",
    "# For quick access save adjacent vertices into a map\n",
    "adj_map = dict()\n",
    "for i in range(4):\n",
    "    for j in range(4):\n",
    "        adj_map[(i,j)] = get_adj(i,j)"
   ]
  },
  {
   "cell_type": "code",
   "execution_count": null,
   "id": "90517975",
   "metadata": {},
   "outputs": [],
   "source": [
    "# Depth-First Search from lecture slides\n",
    "# TODO\n",
    "def DFS(vertices, edges):\n",
    "    color = dict()\n",
    "    d = dict()\n",
    "    p = dict()\n",
    "    f = dict()\n",
    "    traversal_order = []\n",
    "    for vertice in vertices:\n",
    "        u = vertice[0]\n",
    "        color[u] = \"white\"\n",
    "        p[u] = None\n",
    "    time = 0\n",
    "    \n",
    "    for vertice in vertices:\n",
    "        u = vertice[0]\n",
    "        # 0 is the first node in the list of vertices\n",
    "        if color[u] == \"white\":\n",
    "            DFS_visit(u, color, d, p, f, time, traversal_order)\n",
    "    return traversal_order\n",
    "            \n",
    "def DFS_visit(u, color, d, p, f, time, traversal_order):\n",
    "    color[u] = \"gray\"\n",
    "    time += 1\n",
    "    d[u] = time\n",
    "    \n",
    "    traversal_order.append(u)\n",
    "    # Find adjacent vertices\n",
    "    adj = set()\n",
    "    for e in edges:\n",
    "        if e[0] == u:\n",
    "            adj.add(e[1])\n",
    "        elif e[1] == u:\n",
    "            adj.add(e[0])\n",
    "    # When adding neighbours, prioritize lower ID nodes first\n",
    "    adj_sorted = sorted(adj)\n",
    "    #print(\"Adjacent to\", u, \":\", adj_sorted)   \n",
    "        \n",
    "    for v in adj_sorted:\n",
    "        if color[v] == \"white\":\n",
    "            p[v] = u\n",
    "            DFS_visit(v, color, d, p, f, time, traversal_order)\n",
    "    color[u] = \"black\"\n",
    "    f[u] = time + 1"
   ]
  },
  {
   "cell_type": "code",
   "execution_count": 32,
   "id": "e70409e9",
   "metadata": {},
   "outputs": [],
   "source": [
    "# en: https://boardgames.stackexchange.com/questions/29264/boggle-what-is-the-dice-configuration-for-boggle-in-various-languages\n",
    "dice = [[\"R\", \"I\", \"F\", \"O\", \"B\", \"X\"],\n",
    "       [\"I\", \"F\", \"E\", \"H\", \"E\", \"Y\"],\n",
    "       [\"D\", \"E\", \"N\", \"O\", \"W\", \"S\"],\n",
    "       [\"U\", \"T\", \"O\", \"K\", \"N\", \"D\"],\n",
    "       [\"H\", \"M\", \"S\", \"R\", \"A\", \"O\"],\n",
    "       [\"L\", \"U\", \"P\", \"E\", \"T\", \"S\"],\n",
    "       [\"A\", \"C\", \"I\", \"T\", \"O\", \"A\"],\n",
    "       [\"Y\", \"L\", \"G\", \"K\", \"U\", \"E\"],\n",
    "       [\"Qu\", \"B\", \"M\", \"J\", \"O\", \"A\"],\n",
    "       [\"E\", \"H\", \"I\", \"S\", \"P\", \"N\"],\n",
    "       [\"V\", \"E\", \"T\", \"I\", \"G\", \"N\"],\n",
    "       [\"B\", \"A\", \"L\", \"I\", \"Y\", \"T\"],\n",
    "       [\"E\", \"Z\", \"A\", \"V\", \"N\", \"D\"],\n",
    "       [\"R\", \"A\", \"L\", \"E\", \"S\", \"C\"],\n",
    "       [\"U\", \"W\", \"I\", \"L\", \"R\", \"G\"],\n",
    "       [\"P\", \"A\", \"C\", \"E\", \"M\", \"D\"],]\n",
    "\n",
    "board = create_board(dice)"
   ]
  },
  {
   "cell_type": "code",
   "execution_count": 33,
   "id": "e3366e4e",
   "metadata": {},
   "outputs": [
    {
     "data": {
      "text/plain": [
       "[['C', 'I', 'A', 'U'],\n",
       " ['E', 'U', 'G', 'L'],\n",
       " ['K', 'J', 'I', 'H'],\n",
       " ['D', 'I', 'M', 'S']]"
      ]
     },
     "execution_count": 33,
     "metadata": {},
     "output_type": "execute_result"
    }
   ],
   "source": [
    "board"
   ]
  }
 ],
 "metadata": {
  "kernelspec": {
   "display_name": "Python 3",
   "language": "python",
   "name": "python3"
  },
  "language_info": {
   "codemirror_mode": {
    "name": "ipython",
    "version": 3
   },
   "file_extension": ".py",
   "mimetype": "text/x-python",
   "name": "python",
   "nbconvert_exporter": "python",
   "pygments_lexer": "ipython3",
   "version": "3.10.4"
  }
 },
 "nbformat": 4,
 "nbformat_minor": 5
}
