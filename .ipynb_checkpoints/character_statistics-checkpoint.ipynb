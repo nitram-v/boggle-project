{
 "cells": [
  {
   "cell_type": "code",
   "execution_count": null,
   "id": "ee1d1b24",
   "metadata": {},
   "outputs": [],
   "source": [
    "import json"
   ]
  },
  {
   "cell_type": "code",
   "execution_count": 1,
   "id": "ceddf47a",
   "metadata": {},
   "outputs": [],
   "source": [
    "def get_dictionary(filename):\n",
    "    with open(filename) as json_file:\n",
    "        en_dict = json.load(json_file)\n",
    "    # If word has a length of 3, add a value to prefix tree to indicate it\n",
    "    # Create a prefix tree\n",
    "    prefix_tree = dict()\n",
    "    for k in list(en_dict.keys()):\n",
    "        # Prefix is also a word\n",
    "        if len(k) == 3:\n",
    "            prefix_tree[k] = 1\n",
    "        # Prefix itself isn't a word\n",
    "        elif len(k) > 3:\n",
    "            prefix_tree[k[0:3]] = 0\n",
    "        # Remove words smaller than length of 3\n",
    "        elif len(k) < 3:\n",
    "            del en_dict[k]\n",
    "    return en_dict, prefix_tree"
   ]
  },
  {
   "cell_type": "code",
   "execution_count": 2,
   "id": "e27aeda3",
   "metadata": {},
   "outputs": [],
   "source": [
    "def count_chars(dictionary):\n",
    "    # Count the total nr of each characters in dictionary\n",
    "    char_counts = dict()\n",
    "    # Count the nr of words that has each character\n",
    "    char_occurrences = dict()\n",
    "    for word in dictionary.keys():\n",
    "        chars = set(list(word))\n",
    "        for char in chars:\n",
    "            if char_counts.get(char) == None:\n",
    "                char_counts[char] = word.count(char)\n",
    "                char_occurrences[char] = 1\n",
    "            else:\n",
    "                char_counts[char] += word.count(char)\n",
    "                char_occurrences[char] += 1\n",
    "    return char_counts, char_occurrences"
   ]
  },
  {
   "cell_type": "code",
   "execution_count": 3,
   "id": "f9765b8e",
   "metadata": {},
   "outputs": [
    {
     "name": "stdout",
     "output_type": "stream",
     "text": [
      "{'t': 3, 's': 4, 'e': 5, 'o': 4, 'b': 1, 'g': 2, 'l': 1, 'h': 3, 'i': 1, 'j': 2}\n",
      "{'t': 2, 's': 4, 'e': 5, 'o': 4, 'b': 1, 'g': 1, 'l': 1, 'h': 3, 'i': 1, 'j': 2}\n"
     ]
    }
   ],
   "source": [
    "dictionary = {\"test\":\"\", \"boggle\":\"\", \"his\":\"\", \"josh\":\"\", \"toe\":\"\", \"joe\":\"\", \"she\":\"\"}\n",
    "char_counts, char_occurrences = count_chars(dictionary)\n",
    "print(char_counts)\n",
    "print(char_occurrences)"
   ]
  },
  {
   "cell_type": "code",
   "execution_count": null,
   "id": "e630edc4",
   "metadata": {},
   "outputs": [],
   "source": []
  }
 ],
 "metadata": {
  "kernelspec": {
   "display_name": "Python 3",
   "language": "python",
   "name": "python3"
  },
  "language_info": {
   "codemirror_mode": {
    "name": "ipython",
    "version": 3
   },
   "file_extension": ".py",
   "mimetype": "text/x-python",
   "name": "python",
   "nbconvert_exporter": "python",
   "pygments_lexer": "ipython3",
   "version": "3.10.4"
  }
 },
 "nbformat": 4,
 "nbformat_minor": 5
}
