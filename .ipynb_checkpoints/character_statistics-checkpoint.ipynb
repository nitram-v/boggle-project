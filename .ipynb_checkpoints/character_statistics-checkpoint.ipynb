{
 "cells": [
  {
   "cell_type": "code",
   "execution_count": 20,
   "id": "52e8d91c",
   "metadata": {},
   "outputs": [],
   "source": [
    "import json\n",
    "import matplotlib.pyplot as plt"
   ]
  },
  {
   "cell_type": "code",
   "execution_count": 26,
   "id": "275ce810",
   "metadata": {},
   "outputs": [],
   "source": [
    "def plot_dict(stats):\n",
    "    # Sort dictionary by value\n",
    "    stats_sorted = dict(sorted(stats.items(), key=lambda item: item[1], reverse=True))\n",
    "    \n",
    "    chars = list(stats_sorted.keys())\n",
    "    values = list(stats_sorted.values())\n",
    "\n",
    "    plt.bar(range(len(stats_sorted)), values, tick_label=chars)\n",
    "    plt.show()"
   ]
  },
  {
   "cell_type": "code",
   "execution_count": 37,
   "id": "4c8d6e0c",
   "metadata": {},
   "outputs": [],
   "source": [
    "def get_dictionary(filename):\n",
    "    with open(filename) as json_file:\n",
    "        en_dict = json.load(json_file)\n",
    "    # If word has a length of 3, add a value to prefix tree to indicate it\n",
    "    # Create a prefix tree\n",
    "    prefix_tree = dict()\n",
    "    for k in list(en_dict.keys()):\n",
    "        # Prefix is also a word\n",
    "        if len(k) == 3:\n",
    "            prefix_tree[k] = 1\n",
    "        # Prefix itself isn't a word\n",
    "        elif len(k) > 3:\n",
    "            prefix_tree[k[0:3]] = 0\n",
    "        # Remove words smaller than length of 3\n",
    "        elif len(k) < 3:\n",
    "            del en_dict[k]\n",
    "    return en_dict, prefix_tree"
   ]
  },
  {
   "cell_type": "code",
   "execution_count": 2,
   "id": "ed7a047f",
   "metadata": {},
   "outputs": [],
   "source": [
    "def count_chars(dictionary):\n",
    "    # Count the total nr of each characters in dictionary\n",
    "    char_counts = dict()\n",
    "    # Count the nr of words that has each character\n",
    "    char_occurrences = dict()\n",
    "    for word in dictionary.keys():\n",
    "        chars = set(list(word))\n",
    "        for char in chars:\n",
    "            if char_counts.get(char) == None:\n",
    "                char_counts[char] = word.count(char)\n",
    "                char_occurrences[char] = 1\n",
    "            else:\n",
    "                char_counts[char] += word.count(char)\n",
    "                char_occurrences[char] += 1\n",
    "    return char_counts, char_occurrences"
   ]
  },
  {
   "cell_type": "code",
   "execution_count": 31,
   "id": "8abfcff1",
   "metadata": {},
   "outputs": [],
   "source": [
    "# Average number of given character in words\n",
    "def get_avg_char_count(char_counts, dictionary):\n",
    "    avg_char_count = dict()\n",
    "    for char, count in char_counts.items():\n",
    "        avg_char_count[char] = count/len(dictionary.keys())\n",
    "        #print(char, \":\", round(count/len(dictionary.keys()), 2))\n",
    "    return avg_char_count"
   ]
  },
  {
   "cell_type": "code",
   "execution_count": 32,
   "id": "f5f19810",
   "metadata": {},
   "outputs": [],
   "source": [
    "# Nr of words that have given character\n",
    "def get_char_proportion(char_occurrences, dictionary):\n",
    "    char_proportion = dict()\n",
    "    for char, count in char_occurrences.items():\n",
    "        char_proportion[char] = count/len(dictionary.keys())\n",
    "        #print(char, \":\", round(count/len(dictionary.keys()), 2))\n",
    "    return char_proportion"
   ]
  },
  {
   "cell_type": "code",
   "execution_count": 38,
   "id": "c7cae108",
   "metadata": {},
   "outputs": [
    {
     "name": "stdout",
     "output_type": "stream",
     "text": [
      "{'a': 295744, 'h': 92337, 'd': 113146, 'e': 376416, 'i': 312969, 'g': 82590, 'n': 251398, 's': 250233, 'l': 194873, 'm': 105158, 'r': 246106, 'v': 33045, 'k': 26788, 'o': 251554, 'w': 22379, 'f': 39203, 'c': 152940, 't': 230852, 'u': 131464, 'b': 63902, 'y': 70553, 'x': 10474, 'j': 5447, 'p': 113624, 'z': 14747, 'q': 5863, '-': 2}\n",
      "{'a': 219645, 'h': 82787, 'd': 100158, 'e': 252856, 'i': 225887, 'g': 74973, 'n': 188577, 's': 184674, 'l': 157569, 'm': 93568, 'r': 198739, 'v': 31709, 'k': 25336, 'o': 185226, 'w': 21385, 'f': 35176, 'c': 128652, 't': 182846, 'u': 114355, 'b': 59086, 'y': 66518, 'x': 10417, 'j': 5377, 'p': 98705, 'z': 13967, 'q': 5749, '-': 2}\n"
     ]
    }
   ],
   "source": [
    "#dictionary = {\"test\":\"\", \"boggle\":\"\", \"his\":\"\", \"josh\":\"\", \"toe\":\"\", \"joe\":\"\", \"she\":\"\", \"pet\":\"\"}\n",
    "en_dict, prefix_tree = get_dictionary('words_dictionary.json')\n",
    "char_counts, char_occurrences = count_chars(en_dict)\n",
    "print(char_counts)\n",
    "print(char_occurrences)"
   ]
  },
  {
   "cell_type": "code",
   "execution_count": 41,
   "id": "a466440e",
   "metadata": {},
   "outputs": [
    {
     "data": {
      "image/png": "[encoded data removed]",
      "text/plain": [
       "<Figure size 640x480 with 1 Axes>"
      ]
     },
     "metadata": {},
     "output_type": "display_data"
    }
   ],
   "source": [
    "avg_char_count = get_avg_char_count(char_counts, en_dict)\n",
    "plot_dict(avg_char_count)"
   ]
  },
  {
   "cell_type": "code",
   "execution_count": 42,
   "id": "96c92206",
   "metadata": {},
   "outputs": [
    {
     "data": {
      "image/png": "[encoded data removed]",
      "text/plain": [
       "<Figure size 640x480 with 1 Axes>"
      ]
     },
     "metadata": {},
     "output_type": "display_data"
    }
   ],
   "source": [
    "char_proportion = get_char_proportion(char_occurrences, en_dict)\n",
    "plot_dict(char_proportion)"
   ]
  },
  {
   "cell_type": "code",
   "execution_count": null,
   "id": "e77ede3f",
   "metadata": {},
   "outputs": [],
   "source": []
  }
 ],
 "metadata": {
  "kernelspec": {
   "display_name": "Python 3",
   "language": "python",
   "name": "python3"
  },
  "language_info": {
   "codemirror_mode": {
    "name": "ipython",
    "version": 3
   },
   "file_extension": ".py",
   "mimetype": "text/x-python",
   "name": "python",
   "nbconvert_exporter": "python",
   "pygments_lexer": "ipython3",
   "version": "3.10.4"
  }
 },
 "nbformat": 4,
 "nbformat_minor": 5
}
