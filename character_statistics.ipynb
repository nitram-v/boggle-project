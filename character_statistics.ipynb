{
 "cells": [
  {
   "cell_type": "code",
   "execution_count": 20,
   "id": "d9de1696",
   "metadata": {},
   "outputs": [],
   "source": [
    "import json\n",
    "import matplotlib.pyplot as plt"
   ]
  },
  {
   "cell_type": "code",
   "execution_count": 26,
   "id": "5b6eee72",
   "metadata": {},
   "outputs": [],
   "source": [
    "def plot_dict(stats):\n",
    "    # Sort dictionary by value\n",
    "    stats_sorted = dict(sorted(stats.items(), key=lambda item: item[1], reverse=True))\n",
    "    \n",
    "    chars = list(stats_sorted.keys())\n",
    "    values = list(stats_sorted.values())\n",
    "\n",
    "    plt.bar(range(len(stats_sorted)), values, tick_label=chars)\n",
    "    plt.show()"
   ]
  },
  {
   "cell_type": "code",
   "execution_count": 138,
   "id": "660ed553",
   "metadata": {},
   "outputs": [],
   "source": [
    "def check_chars(word):\n",
    "    # Remove words containing these characters from the dictionary\n",
    "    chars = ['ž','c','z','y','w','q','x','é','è','ê','α']\n",
    "    for char in word.lower():\n",
    "        if char in chars:\n",
    "            return False\n",
    "    if word.isalpha():\n",
    "        return True"
   ]
  },
  {
   "cell_type": "code",
   "execution_count": 133,
   "id": "45bc80dc",
   "metadata": {},
   "outputs": [],
   "source": [
    "def get_dictionary(filename):\n",
    "    if '.txt' in filename:\n",
    "        with open(filename, 'r', encoding='utf-8') as f:\n",
    "            words_list = f.read().splitlines()\n",
    "        words = {word.lower():1 for word in words_list if check_chars(word)}\n",
    "    elif '.json' in filename:\n",
    "        with open(filename) as json_file:\n",
    "            words_raw = json.load(json_file)\n",
    "        words = {word:1 for word in words_raw if word.isalpha()}\n",
    "            \n",
    "    # If word has a length of 3, add a value to prefix tree to indicate it\n",
    "    # Create a prefix tree\n",
    "    prefix_tree = dict()\n",
    "    for k in list(words.keys()):\n",
    "        # Prefix is also a word\n",
    "        if len(k) == 3:\n",
    "            prefix_tree[k] = 1\n",
    "        # Prefix itself isn't a word\n",
    "        elif len(k) > 3:\n",
    "            prefix_tree[k[0:3]] = 0\n",
    "        # Remove words smaller than length of 3\n",
    "        elif len(k) < 3:\n",
    "            del words[k]\n",
    "    return words, prefix_tree"
   ]
  },
  {
   "cell_type": "code",
   "execution_count": 2,
   "id": "4648e200",
   "metadata": {},
   "outputs": [],
   "source": [
    "def count_chars(dictionary):\n",
    "    # Count the total nr of each characters in dictionary\n",
    "    char_counts = dict()\n",
    "    # Count the nr of words that has each character\n",
    "    char_occurrences = dict()\n",
    "    for word in dictionary.keys():\n",
    "        chars = set(list(word))\n",
    "        for char in chars:\n",
    "            if char_counts.get(char) == None:\n",
    "                char_counts[char] = word.count(char)\n",
    "                char_occurrences[char] = 1\n",
    "            else:\n",
    "                char_counts[char] += word.count(char)\n",
    "                char_occurrences[char] += 1\n",
    "    return char_counts, char_occurrences"
   ]
  },
  {
   "cell_type": "code",
   "execution_count": 43,
   "id": "bca706d2",
   "metadata": {},
   "outputs": [],
   "source": [
    "# Average number of given character in words\n",
    "def get_avg_char_count(char_counts, dictionary):\n",
    "    avg_char_count = dict()\n",
    "    for char, count in char_counts.items():\n",
    "        avg_char_count[char] = count/len(dictionary.keys())\n",
    "        #print(char, \":\", round(count/len(dictionary.keys()), 2))\n",
    "    return avg_char_count"
   ]
  },
  {
   "cell_type": "code",
   "execution_count": 44,
   "id": "9fdec465",
   "metadata": {},
   "outputs": [],
   "source": [
    "# Nr of words that have given character\n",
    "def get_char_proportion(char_occurrences, dictionary):\n",
    "    char_proportion = dict()\n",
    "    for char, count in char_occurrences.items():\n",
    "        char_proportion[char] = count/len(dictionary.keys())\n",
    "        #print(char, \":\", round(count/len(dictionary.keys()), 2))\n",
    "    return char_proportion"
   ]
  },
  {
   "cell_type": "code",
   "execution_count": 87,
   "id": "5f2a1da3",
   "metadata": {},
   "outputs": [
    {
     "name": "stdout",
     "output_type": "stream",
     "text": [
      "{'a': 295742, 'h': 92335, 'd': 113146, 'e': 376411, 'i': 312967, 'g': 82590, 'n': 251396, 's': 250232, 'l': 194873, 'm': 105158, 'r': 246103, 'v': 33045, 'k': 26788, 'o': 251553, 'w': 22379, 'f': 39203, 'c': 152939, 't': 230851, 'u': 131464, 'b': 63902, 'y': 70553, 'x': 10474, 'j': 5445, 'p': 113622, 'z': 14747, 'q': 5863}\n",
      "{'a': 219643, 'h': 82786, 'd': 100158, 'e': 252854, 'i': 225885, 'g': 74973, 'n': 188575, 's': 184673, 'l': 157569, 'm': 93568, 'r': 198737, 'v': 31709, 'k': 25336, 'o': 185225, 'w': 21385, 'f': 35176, 'c': 128651, 't': 182845, 'u': 114355, 'b': 59086, 'y': 66518, 'x': 10417, 'j': 5375, 'p': 98703, 'z': 13967, 'q': 5749}\n"
     ]
    }
   ],
   "source": [
    "#dictionary = {\"test\":\"\", \"boggle\":\"\", \"his\":\"\", \"josh\":\"\", \"toe\":\"\", \"joe\":\"\", \"she\":\"\", \"pet\":\"\"}\n",
    "en_dict, prefix_tree = get_dictionary('words_dictionary.json')\n",
    "char_counts_en, char_occurrences_en = count_chars(en_dict)\n",
    "print(char_counts_en)\n",
    "print(char_occurrences_en)"
   ]
  },
  {
   "cell_type": "code",
   "execution_count": 88,
   "id": "dc3c9fde",
   "metadata": {},
   "outputs": [
    {
     "data": {
      "image/png": "[encoded data removed]",
      "text/plain": [
       "<Figure size 640x480 with 1 Axes>"
      ]
     },
     "metadata": {},
     "output_type": "display_data"
    }
   ],
   "source": [
    "avg_char_count_en = get_avg_char_count(char_counts_en, en_dict)\n",
    "plot_dict(avg_char_count_en)"
   ]
  },
  {
   "cell_type": "code",
   "execution_count": 89,
   "id": "49cab7ae",
   "metadata": {},
   "outputs": [
    {
     "data": {
      "image/png": "[encoded data removed]",
      "text/plain": [
       "<Figure size 640x480 with 1 Axes>"
      ]
     },
     "metadata": {},
     "output_type": "display_data"
    }
   ],
   "source": [
    "char_proportion_en = get_char_proportion(char_occurrences_en, en_dict)\n",
    "plot_dict(char_proportion_en)"
   ]
  },
  {
   "cell_type": "code",
   "execution_count": 90,
   "id": "ebb5843b",
   "metadata": {},
   "outputs": [],
   "source": [
    "# en: https://boardgames.stackexchange.com/questions/29264/boggle-what-is-the-dice-configuration-for-boggle-in-various-languages\n",
    "dice = [[\"R\", \"I\", \"F\", \"O\", \"B\", \"X\"],\n",
    "       [\"I\", \"F\", \"E\", \"H\", \"E\", \"Y\"],\n",
    "       [\"D\", \"E\", \"N\", \"O\", \"W\", \"S\"],\n",
    "       [\"U\", \"T\", \"O\", \"K\", \"N\", \"D\"],\n",
    "       [\"H\", \"M\", \"S\", \"R\", \"A\", \"O\"],\n",
    "       [\"L\", \"U\", \"P\", \"E\", \"T\", \"S\"],\n",
    "       [\"A\", \"C\", \"I\", \"T\", \"O\", \"A\"],\n",
    "       [\"Y\", \"L\", \"G\", \"K\", \"U\", \"E\"],\n",
    "       [\"Qu\", \"B\", \"M\", \"J\", \"O\", \"A\"],\n",
    "       [\"E\", \"H\", \"I\", \"S\", \"P\", \"N\"],\n",
    "       [\"V\", \"E\", \"T\", \"I\", \"G\", \"N\"],\n",
    "       [\"B\", \"A\", \"L\", \"I\", \"Y\", \"T\"],\n",
    "       [\"E\", \"Z\", \"A\", \"V\", \"N\", \"D\"],\n",
    "       [\"R\", \"A\", \"L\", \"E\", \"S\", \"C\"],\n",
    "       [\"U\", \"W\", \"I\", \"L\", \"R\", \"G\"],\n",
    "       [\"P\", \"A\", \"C\", \"E\", \"M\", \"D\"],]\n",
    "\n",
    "dice_strings = {\"\".join(d).lower():1 for d in dice}\n",
    "char_counts_dice, char_occurrences_dice = count_chars(dice_strings)"
   ]
  },
  {
   "cell_type": "code",
   "execution_count": 91,
   "id": "f0f302d0",
   "metadata": {},
   "outputs": [
    {
     "data": {
      "image/png": "[encoded data removed]",
      "text/plain": [
       "<Figure size 640x480 with 1 Axes>"
      ]
     },
     "metadata": {},
     "output_type": "display_data"
    }
   ],
   "source": [
    "avg_char_count_dice = get_avg_char_count(char_counts_dice, dice_strings)\n",
    "plot_dict(avg_char_count_dice)"
   ]
  },
  {
   "cell_type": "code",
   "execution_count": 92,
   "id": "3f5c1844",
   "metadata": {},
   "outputs": [
    {
     "data": {
      "image/png": "[encoded data removed]",
      "text/plain": [
       "<Figure size 640x480 with 1 Axes>"
      ]
     },
     "metadata": {},
     "output_type": "display_data"
    }
   ],
   "source": [
    "char_proportion_dice = get_char_proportion(char_occurrences_dice, dice_strings)\n",
    "plot_dict(char_proportion_dice)"
   ]
  },
  {
   "cell_type": "code",
   "execution_count": 139,
   "id": "481345a4",
   "metadata": {},
   "outputs": [],
   "source": [
    "et_dict, prefix_tree = get_dictionary('lemmad2013.txt')\n",
    "char_counts_et, char_occurrences_et = count_chars(et_dict)"
   ]
  },
  {
   "cell_type": "code",
   "execution_count": 140,
   "id": "d9b18c62",
   "metadata": {},
   "outputs": [
    {
     "data": {
      "image/png": "[encoded data removed]",
      "text/plain": [
       "<Figure size 640x480 with 1 Axes>"
      ]
     },
     "metadata": {},
     "output_type": "display_data"
    }
   ],
   "source": [
    "avg_char_count_et = get_avg_char_count(char_counts_et, et_dict)\n",
    "plot_dict(avg_char_count_et)"
   ]
  },
  {
   "cell_type": "code",
   "execution_count": 141,
   "id": "2b75d58c",
   "metadata": {},
   "outputs": [
    {
     "data": {
      "image/png": "[encoded data removed]",
      "text/plain": [
       "<Figure size 640x480 with 1 Axes>"
      ]
     },
     "metadata": {},
     "output_type": "display_data"
    }
   ],
   "source": [
    "char_proportion_et = get_char_proportion(char_occurrences_et, et_dict)\n",
    "plot_dict(char_proportion_et)"
   ]
  },
  {
   "cell_type": "code",
   "execution_count": 142,
   "id": "36445157",
   "metadata": {},
   "outputs": [],
   "source": [
    "# Map Etonian alphabet to English Boggle dice based on average occurrences of characters\n",
    "avg_char_count_dice = dict(sorted(avg_char_count_dice.items(), key=lambda item: item[1], reverse=True))\n",
    "avg_char_count_et = dict(sorted(avg_char_count_et.items(), key=lambda item: item[1], reverse=True))\n",
    "avg_char_count_en = dict(sorted(avg_char_count_en.items(), key=lambda item: item[1], reverse=True))"
   ]
  },
  {
   "cell_type": "code",
   "execution_count": 143,
   "id": "d73a0ab0",
   "metadata": {},
   "outputs": [
    {
     "name": "stdout",
     "output_type": "stream",
     "text": [
      "{'e': 10, 'a': 8, 'i': 7, 'o': 6, 'n': 5, 's': 5, 'u': 5, 't': 5, 'l': 5, 'r': 4, 'd': 4, 'b': 3, 'y': 3, 'h': 3, 'm': 3, 'p': 3, 'c': 3, 'g': 3, 'f': 2, 'w': 2, 'k': 2, 'v': 2, 'x': 1, 'q': 1, 'j': 1, 'z': 1}\n"
     ]
    }
   ],
   "source": [
    "print(char_counts_sorted)"
   ]
  },
  {
   "cell_type": "code",
   "execution_count": 144,
   "id": "2d4fb104",
   "metadata": {},
   "outputs": [],
   "source": [
    "et_dice = [i[:] for i in dice]\n",
    "for en_char, et_char in zip(list(avg_char_count_en.keys()), list(avg_char_count_et.keys())[:len(avg_char_count_en)-1]):\n",
    "    for i in range(len(et_dice)):\n",
    "        for j in range(len(et_dice[i])):\n",
    "            if dice[i][j].lower() == en_char or dice[i][j] == \"Qu\":\n",
    "                et_dice[i][j] = et_char\n",
    "    #et_dice = [[et_char if et_dice[i][j].lower()==en_char else et_dice[i][j] for j in range(len(et_dice[i]))] for i in range(len(et_dice))]\n",
    "    #et_dice = [[et_char if char.lower()==en_char else char for char in d] for d in et_dice]"
   ]
  },
  {
   "cell_type": "code",
   "execution_count": 145,
   "id": "df97e9c8",
   "metadata": {},
   "outputs": [
    {
     "data": {
      "text/plain": [
       "[['R', 'I', 'F', 'O', 'B', 'X'],\n",
       " ['I', 'F', 'E', 'H', 'E', 'Y'],\n",
       " ['D', 'E', 'N', 'O', 'W', 'S'],\n",
       " ['U', 'T', 'O', 'K', 'N', 'D'],\n",
       " ['H', 'M', 'S', 'R', 'A', 'O'],\n",
       " ['L', 'U', 'P', 'E', 'T', 'S'],\n",
       " ['A', 'C', 'I', 'T', 'O', 'A'],\n",
       " ['Y', 'L', 'G', 'K', 'U', 'E'],\n",
       " ['Qu', 'B', 'M', 'J', 'O', 'A'],\n",
       " ['E', 'H', 'I', 'S', 'P', 'N'],\n",
       " ['V', 'E', 'T', 'I', 'G', 'N'],\n",
       " ['B', 'A', 'L', 'I', 'Y', 'T'],\n",
       " ['E', 'Z', 'A', 'V', 'N', 'D'],\n",
       " ['R', 'A', 'L', 'E', 'S', 'C'],\n",
       " ['U', 'W', 'I', 'L', 'R', 'G'],\n",
       " ['P', 'A', 'C', 'E', 'M', 'D']]"
      ]
     },
     "execution_count": 145,
     "metadata": {},
     "output_type": "execute_result"
    }
   ],
   "source": [
    "dice"
   ]
  },
  {
   "cell_type": "code",
   "execution_count": 146,
   "id": "6a05b622",
   "metadata": {},
   "outputs": [
    {
     "data": {
      "text/plain": [
       "[['l', 'i', 'õ', 's', 'j', 'f'],\n",
       " ['i', 'õ', 'a', 'd', 'a', 'g'],\n",
       " ['p', 'a', 't', 's', 'b', 'u'],\n",
       " ['m', 'k', 's', 'ü', 't', 'p'],\n",
       " ['d', 'v', 'u', 'l', 'e', 's'],\n",
       " ['n', 'm', 'o', 'a', 'k', 'u'],\n",
       " ['e', 'r', 'i', 'k', 's', 'e'],\n",
       " ['g', 'n', 'h', 'ü', 'm', 'a'],\n",
       " ['š', 'j', 'v', 'J', 's', 'e'],\n",
       " ['a', 'd', 'i', 'u', 'o', 't'],\n",
       " ['ä', 'a', 'k', 'i', 'h', 't'],\n",
       " ['j', 'e', 'n', 'i', 'g', 'k'],\n",
       " ['a', 'ö', 'e', 'ä', 't', 'p'],\n",
       " ['l', 'e', 'n', 'a', 'u', 'r'],\n",
       " ['m', 'b', 'i', 'n', 'l', 'h'],\n",
       " ['o', 'e', 'r', 'a', 'v', 'p']]"
      ]
     },
     "execution_count": 146,
     "metadata": {},
     "output_type": "execute_result"
    }
   ],
   "source": [
    "et_dice"
   ]
  },
  {
   "cell_type": "code",
   "execution_count": 147,
   "id": "5b457bc2",
   "metadata": {},
   "outputs": [],
   "source": [
    "dice_strings_et = {\"\".join(d).lower():1 for d in et_dice}\n",
    "char_counts_et_dice, char_occurrences_et_dice = count_chars(dice_strings_et)"
   ]
  },
  {
   "cell_type": "code",
   "execution_count": 148,
   "id": "d04a813f",
   "metadata": {},
   "outputs": [
    {
     "data": {
      "image/png": "[encoded data removed]",
      "text/plain": [
       "<Figure size 640x480 with 1 Axes>"
      ]
     },
     "metadata": {},
     "output_type": "display_data"
    }
   ],
   "source": [
    "char_proportion_et_dice = get_char_proportion(char_counts_et_dice, dice_strings_et)\n",
    "plot_dict(char_proportion_et_dice)"
   ]
  },
  {
   "cell_type": "code",
   "execution_count": 149,
   "id": "42fe125f",
   "metadata": {},
   "outputs": [
    {
     "data": {
      "text/plain": [
       "{'a': 1.1937942826426338,\n",
       " 'i': 1.006387565691281,\n",
       " 'e': 0.9007153844834193,\n",
       " 's': 0.7819421173322049,\n",
       " 't': 0.6705800275631751,\n",
       " 'u': 0.642788112379983,\n",
       " 'l': 0.6120969171560751,\n",
       " 'k': 0.5573765804507322,\n",
       " 'n': 0.5439895694540547,\n",
       " 'r': 0.5342509621378044,\n",
       " 'm': 0.452384900869784,\n",
       " 'o': 0.42733214769744554,\n",
       " 'p': 0.29080293473474733,\n",
       " 'v': 0.2586592402399483,\n",
       " 'd': 0.23881032303812524,\n",
       " 'h': 0.18797284855693625,\n",
       " 'g': 0.15945468373829852,\n",
       " 'j': 0.13730121060667577,\n",
       " 'õ': 0.13128534748471732,\n",
       " 'ä': 0.1312796289836508,\n",
       " 'ü': 0.09913021598778528,\n",
       " 'b': 0.08226635634267546,\n",
       " 'ö': 0.055509489852519855,\n",
       " 'f': 0.0318406139382745,\n",
       " 'š': 0.00649049871047801}"
      ]
     },
     "execution_count": 149,
     "metadata": {},
     "output_type": "execute_result"
    }
   ],
   "source": [
    "avg_char_count_et"
   ]
  },
  {
   "cell_type": "code",
   "execution_count": null,
   "id": "f140cddd",
   "metadata": {},
   "outputs": [],
   "source": []
  }
 ],
 "metadata": {
  "kernelspec": {
   "display_name": "Python 3",
   "language": "python",
   "name": "python3"
  },
  "language_info": {
   "codemirror_mode": {
    "name": "ipython",
    "version": 3
   },
   "file_extension": ".py",
   "mimetype": "text/x-python",
   "name": "python",
   "nbconvert_exporter": "python",
   "pygments_lexer": "ipython3",
   "version": "3.10.4"
  }
 },
 "nbformat": 4,
 "nbformat_minor": 5
}
