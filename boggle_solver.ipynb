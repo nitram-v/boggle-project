{
 "cells": [
  {
   "cell_type": "markdown",
   "id": "0b09f8f9",
   "metadata": {},
   "source": [
    "**Links:**\n",
    "* Wikipedia: https://en.wikipedia.org/wiki/Boggle\n",
    "* How to play? https://www.wikihow.com/Play-Boggle\n",
    "* English dice configuration: https://boardgames.stackexchange.com/questions/29264/boggle-what-is-the-dice-configuration-for-boggle-in-various-languages\n",
    "* More configurations: https://en.wikipedia.org/wiki/Talk%3aBoggle#Boggle_Variants\n",
    "* Inspiration for solver [1]: https://medium.com/@ashalabi13/solving-boggle-using-depth-first-searches-and-prefix-trees-9c3faa89ea99\n",
    "* [2] https://www.geeksforgeeks.org/boggle-find-possible-words-board-characters/"
   ]
  },
  {
   "cell_type": "code",
   "execution_count": 1,
   "id": "813e56cc",
   "metadata": {},
   "outputs": [],
   "source": [
    "import numpy as np"
   ]
  },
  {
   "cell_type": "code",
   "execution_count": 2,
   "id": "b3f40e5b",
   "metadata": {},
   "outputs": [],
   "source": [
    "# Create a random board with given dice\n",
    "def create_board(dice):\n",
    "    board = [list(zeros) for zeros in np.zeros((4,4))]\n",
    "    for i in range(4):\n",
    "        for j in range(4):\n",
    "            # Take a random die from the set of dice\n",
    "            die = dice.pop(np.random.randint(len(dice)))\n",
    "            # Assign a random letter from the die onto the board\n",
    "            board[i][j] = die[np.random.randint(6)]\n",
    "    return board"
   ]
  },
  {
   "cell_type": "code",
   "execution_count": 3,
   "id": "04fe8fcb",
   "metadata": {},
   "outputs": [],
   "source": [
    "# Get adjacent vertices for given vertex\n",
    "def get_adj(i,j):\n",
    "    adj_indices = [(i-1,j), (i+1,j), (i,j-1), (i,j+1), (i-1,j-1), (i+1,j-1), (i-1,j+1), (i+1,j+1)]\n",
    "    return list(filter(lambda x : x[0] in range(0,4) and x[1] in range(0,4), adj_indices))\n",
    "\n",
    "# For quick access save adjacent vertices into a map\n",
    "adj_map = dict()\n",
    "for i in range(4):\n",
    "    for j in range(4):\n",
    "        adj_map[(i,j)] = get_adj(i,j)"
   ]
  },
  {
   "cell_type": "code",
   "execution_count": 4,
   "id": "18a1d34f",
   "metadata": {},
   "outputs": [],
   "source": [
    "# Depth-First Search from lecture slides\n",
    "def DFS(vertices, edges, prefix_tree, dictionary):\n",
    "    un_visited_vertices = [[False for j in range(4)] for i in range(4)]\n",
    "    #un_visited_vertices = [(i,j) for i in range(4) for j in range(4)]\n",
    "    for i in range(4):\n",
    "        for j in range(4):\n",
    "            string = \"\"#vertices[i][j]\n",
    "            visited_vertices = [i[:] for i in un_visited_vertices]\n",
    "            #print(\"starting from\", vertices[i][j], \"at\", (i,j))\n",
    "            DFS_visit((i,j), vertices, edges, visited_vertices, string, prefix_tree, dictionary)\n",
    "            \n",
    "def DFS_visit(vertice, vertices, edges, visited_vertices, string, prefix_tree, dictionary):\n",
    "    #global comparisons\n",
    "    #global all_comparisons\n",
    "    string += vertices[vertice[0]][vertice[1]]\n",
    "    #print(string.lower())\n",
    "    visited_vertices[vertice[0]][vertice[1]] = True\n",
    "    if len(string) == 3:\n",
    "        if prefix_tree.get(string.lower()) == None:\n",
    "            return\n",
    "    if dictionary.get(string.lower()) != None:\n",
    "        print(string)\n",
    "    # Find adjacent vertices\n",
    "    adj = edges[vertice]\n",
    "    for adj_v in adj:\n",
    "        if visited_vertices[adj_v[0]][adj_v[1]] == False:\n",
    "            branch_visited_vertices = [i[:] for i in visited_vertices]\n",
    "            DFS_visit(adj_v, vertices, edges, branch_visited_vertices, string, prefix_tree, dictionary)\n",
    "    # Backtrack\n",
    "    string = string.rstrip(string[-1])\n",
    "    visited_vertices[vertice[0]][vertice[1]] = False"
   ]
  },
  {
   "cell_type": "code",
   "execution_count": 5,
   "id": "0ac8aac9",
   "metadata": {},
   "outputs": [],
   "source": [
    "# en: https://boardgames.stackexchange.com/questions/29264/boggle-what-is-the-dice-configuration-for-boggle-in-various-languages\n",
    "dice = [[\"R\", \"I\", \"F\", \"O\", \"B\", \"X\"],\n",
    "       [\"I\", \"F\", \"E\", \"H\", \"E\", \"Y\"],\n",
    "       [\"D\", \"E\", \"N\", \"O\", \"W\", \"S\"],\n",
    "       [\"U\", \"T\", \"O\", \"K\", \"N\", \"D\"],\n",
    "       [\"H\", \"M\", \"S\", \"R\", \"A\", \"O\"],\n",
    "       [\"L\", \"U\", \"P\", \"E\", \"T\", \"S\"],\n",
    "       [\"A\", \"C\", \"I\", \"T\", \"O\", \"A\"],\n",
    "       [\"Y\", \"L\", \"G\", \"K\", \"U\", \"E\"],\n",
    "       [\"Qu\", \"B\", \"M\", \"J\", \"O\", \"A\"],\n",
    "       [\"E\", \"H\", \"I\", \"S\", \"P\", \"N\"],\n",
    "       [\"V\", \"E\", \"T\", \"I\", \"G\", \"N\"],\n",
    "       [\"B\", \"A\", \"L\", \"I\", \"Y\", \"T\"],\n",
    "       [\"E\", \"Z\", \"A\", \"V\", \"N\", \"D\"],\n",
    "       [\"R\", \"A\", \"L\", \"E\", \"S\", \"C\"],\n",
    "       [\"U\", \"W\", \"I\", \"L\", \"R\", \"G\"],\n",
    "       [\"P\", \"A\", \"C\", \"E\", \"M\", \"D\"],]\n",
    "\n",
    "board = create_board(dice)"
   ]
  },
  {
   "cell_type": "code",
   "execution_count": 6,
   "id": "2b832e50",
   "metadata": {},
   "outputs": [
    {
     "name": "stdout",
     "output_type": "stream",
     "text": [
      "TEST\n",
      "TOE\n",
      "SHE\n",
      "BOGGLE\n",
      "HIS\n",
      "JOE\n",
      "JOSH\n",
      "HIS\n",
      "SHE\n",
      "None\n"
     ]
    }
   ],
   "source": [
    "### TEST\n",
    "dictionary = {\"test\":\"\", \"boggle\":\"\", \"his\":\"\", \"josh\":\"\", \"toe\":\"\", \"joe\":\"\", \"she\":\"\"}\n",
    "prefix_tree = {\"tes\": \"test\", \"bog\": \"boggle\", \"his\": \"his\", \"jos\": \"josh\", \"toe\": \"toe\", \"joe\": \"joe\", \"she\":\"she\"}\n",
    "board = [['T', 'E', 'S', 'T'],\n",
    "         ['B', 'O', 'H', 'L'],\n",
    "         ['G', 'J', 'I', 'H'],\n",
    "         ['G', 'L', 'E', 'S']]\n",
    "found_words = DFS(board, adj_map, prefix_tree, dictionary)\n",
    "print(found_words)\n",
    "###"
   ]
  },
  {
   "cell_type": "code",
   "execution_count": 7,
   "id": "f53c1d6d",
   "metadata": {},
   "outputs": [
    {
     "data": {
      "text/plain": [
       "[['T', 'E', 'S', 'T'],\n",
       " ['B', 'O', 'H', 'L'],\n",
       " ['G', 'J', 'I', 'H'],\n",
       " ['G', 'L', 'E', 'S']]"
      ]
     },
     "execution_count": 7,
     "metadata": {},
     "output_type": "execute_result"
    }
   ],
   "source": [
    "board"
   ]
  }
 ],
 "metadata": {
  "kernelspec": {
   "display_name": "Python 3",
   "language": "python",
   "name": "python3"
  },
  "language_info": {
   "codemirror_mode": {
    "name": "ipython",
    "version": 3
   },
   "file_extension": ".py",
   "mimetype": "text/x-python",
   "name": "python",
   "nbconvert_exporter": "python",
   "pygments_lexer": "ipython3",
   "version": "3.10.4"
  }
 },
 "nbformat": 4,
 "nbformat_minor": 5
}
